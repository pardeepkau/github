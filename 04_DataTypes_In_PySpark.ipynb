{
 "cells": [
  {
   "cell_type": "markdown",
   "metadata": {},
   "source": [
    "# DataTypes in PySpark\n",
    "    - In PySpark, data types represent the type of data stored in a DataFrame or a distributed dataset (RDD)\n",
    "    \n",
    "    - PySpark provides several built-in data types that are similar to those in Python, but they are specifically designed to work in a distributed computing environment\n",
    "    \n",
    "    - These data types are part of the `pyspark.sql.types` module"
   ]
  },
  {
   "cell_type": "code",
   "execution_count": null,
   "metadata": {},
   "outputs": [],
   "source": [
    "#Import Spark Packges \n",
    "from pyspark.sql import SparkSession"
   ]
  },
  {
   "cell_type": "code",
   "execution_count": null,
   "metadata": {},
   "outputs": [],
   "source": [
    "#Build an Spark Session\n",
    "spark = SparkSession.builder.getOrCreate()"
   ]
  },
  {
   "cell_type": "markdown",
   "metadata": {},
   "source": [
    "# 1. StringType:\n",
    "   - Represents text or string data."
   ]
  },
  {
   "cell_type": "code",
   "execution_count": null,
   "metadata": {},
   "outputs": [],
   "source": [
    "data = [(\"Alice\",), (\"Bob\",), (\"Charlie\",)]\n",
    "df = spark.createDataFrame(data, [\"Name\"])\n",
    "df.show()"
   ]
  },
  {
   "cell_type": "markdown",
   "metadata": {},
   "source": [
    "# 2. IntegerType:\n",
    "   - Represents integer values"
   ]
  },
  {
   "cell_type": "code",
   "execution_count": null,
   "metadata": {},
   "outputs": [],
   "source": [
    "data = [(25,), (30,), (22,)]\n",
    "df = spark.createDataFrame(data, [\"Age\"])\n",
    "df.show()"
   ]
  },
  {
   "cell_type": "markdown",
   "metadata": {},
   "source": [
    "# 3. DoubleType:\n",
    "   - Represents floating-point or double-precision numbers"
   ]
  },
  {
   "cell_type": "code",
   "execution_count": null,
   "metadata": {},
   "outputs": [],
   "source": [
    "data = [(3.14,), (2.718,), (1.618,)]\n",
    "df = spark.createDataFrame(data, [\"Value\"])\n",
    "df.show()"
   ]
  },
  {
   "cell_type": "markdown",
   "metadata": {},
   "source": [
    "# 4. BooleanType:\n",
    "   - Represents Boolean values (True or False)"
   ]
  },
  {
   "cell_type": "code",
   "execution_count": null,
   "metadata": {},
   "outputs": [],
   "source": [
    "data = [(True,), (False,), (True,)]\n",
    "df = spark.createDataFrame(data, [\"IsMarried\"])\n",
    "df.show()"
   ]
  },
  {
   "cell_type": "markdown",
   "metadata": {},
   "source": [
    "# 5. DateType:\n",
    "   - Represents date values."
   ]
  },
  {
   "cell_type": "code",
   "execution_count": null,
   "metadata": {},
   "outputs": [],
   "source": [
    "from pyspark.sql.functions import to_date\n",
    "spark = SparkSession.builder.appName(\"DateDataType\").getOrCreate()\n",
    "data = [(\"2022-01-15\",), (\"2023-03-20\",), (\"2021-11-05\",)]\n",
    "df = spark.createDataFrame(data, [\"Date\"])\n",
    "df = df.withColumn(\"Date\", to_date(df[\"Date\"]))\n",
    "df.show()"
   ]
  },
  {
   "cell_type": "markdown",
   "metadata": {},
   "source": [
    "# 6. TimestampType:\n",
    "   - Represents timestamp values with date and time."
   ]
  },
  {
   "cell_type": "code",
   "execution_count": null,
   "metadata": {},
   "outputs": [],
   "source": [
    "data = [(\"2022-01-15 14:30:00\",), (\"2023-03-20 09:45:00\",), (\"2021-11-05 18:15:00\",)]\n",
    "df = spark.createDataFrame(data, [\"Timestamp\"])\n",
    "df.show()"
   ]
  },
  {
   "cell_type": "markdown",
   "metadata": {},
   "source": [
    "# 7. ArrayType:\n",
    "   - Represents arrays or lists of values"
   ]
  },
  {
   "cell_type": "code",
   "execution_count": null,
   "metadata": {},
   "outputs": [],
   "source": [
    "from pyspark.sql.functions import split\n",
    "\n",
    "data = [(\"1,2,3\",), (\"4,5\",), (\"6\",)]\n",
    "df = spark.createDataFrame(data, [\"Values\"])\n",
    "df = df.withColumn(\"Values\", split(df[\"Values\"], \",\"))\n",
    "df.show()"
   ]
  },
  {
   "cell_type": "markdown",
   "metadata": {},
   "source": [
    "# 8. MapType:\n",
    "   - Represents key-value pairs or dictionaries"
   ]
  },
  {
   "cell_type": "code",
   "execution_count": null,
   "metadata": {},
   "outputs": [],
   "source": [
    "data = [({\"Name\": \"Alice\", \"Age\": 25},), ({\"Name\": \"Bob\", \"Age\": 30},), ({\"Name\": \"Charlie\", \"Age\": 22},)]\n",
    "df = spark.createDataFrame(data, [\"Info\"])\n",
    "df.show()"
   ]
  }
 ],
 "metadata": {
  "kernelspec": {
   "display_name": "Python 3 (ipykernel)",
   "language": "python",
   "name": "python3"
  },
  "language_info": {
   "codemirror_mode": {
    "name": "ipython",
    "version": 3
   },
   "file_extension": ".py",
   "mimetype": "text/x-python",
   "name": "python",
   "nbconvert_exporter": "python",
   "pygments_lexer": "ipython3",
   "version": "3.12.1"
  }
 },
 "nbformat": 4,
 "nbformat_minor": 4
}
